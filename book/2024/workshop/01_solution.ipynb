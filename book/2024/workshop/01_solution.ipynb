{
 "cells": [
  {
   "cell_type": "markdown",
   "metadata": {},
   "source": [
    "# Solution\n",
    "\n",
    "```{note}\n",
    "To activate Python interaction, click {fa}`rocket` --> {guilabel}`Live Code` on the top right corner of this screen. The packages and functions provided on the previous page are loaded into this notebook, but hidden from view so that you can focus on understanding the solution.\n",
    "\n",
    "The download page feature has been disabled to force you to read and understand the solution, rather than copy and paste it. 😊\n",
    "```\n",
    "\n",
    "## Case Study Introduction\n",
    "\n",
    "## Deterministic Parameters\n",
    "\n",
    "Relevant values are specified in the equations below, except for the crest elevation of the dike, which is 8 m. As it is measured relative to the dike toe, the reference datum, the crest elevation is equivalent to the crest height:\n",
    "$$\n",
    "Z_{\\mathrm{crest}}=h_{\\mathrm{crest}}=8.0 \\; \\mathrm{m}\n",
    "$$\n",
    "\n",
    "## Random Variables\n",
    "\n",
    "For the case described above, four variables are considered random. There distributions are specified here, along with the location and scale parameters, using the format $\\sim \\mathrm{DIST}(loc,\\,scale)$:\n",
    "\n",
    "- Significant wave height [m], $Hs\\sim\\mathrm{Gumbel}(1, 0.2)$\n",
    "- Wind speed [m/s], $u\\sim\\mathrm{Exp}(20, 1)$\n",
    "- Water elevation [m], $Z_w\\sim\\mathrm{N}(4, 0.4)$\n",
    "- Bottom elevation [m], $Z_b\\sim\\mathrm{N}(1, 0.1)$\n",
    "\n",
    "Note that the location and scale parameters are _not_ the mean and standard deviation, but will make it much easier to specify these distributions using the appropriate `rv_continuous` sub-class from the `scipy.stats` package.\n",
    "\n",
    "## Governing Equations\n",
    "\n",
    "The mathematical formulation of the governing equations are defined here, which should be incorporated in Python functions.\n",
    "\n",
    "**Wind set-up**\n",
    "\n",
    "$$\n",
    "S = C \\cdot \\frac{u^2}{g \\cdot d} \\cdot F\n",
    "$$\n",
    "\n",
    "Where:\n",
    "- $S$ [m] is the _vertical_ increase in water level due to wind-induced setup at the toe of the dike, relative to the \"still\" water level\n",
    "- $C$ [$-$] is a constant ($4\\cdot 10^{-6}$)\n",
    "- $u$ [m/s] is a representative wind speed\n",
    "- $g$ is the gravitational constant\n",
    "- $d$ [m] is the average water depth over the length of the inlet; we will use the value measured at the _entrance_ of the inlet (i.e., $d_{\\mathrm{offshore}}$, see below)\n",
    "- $F$ [m] is the distance over which the wind is acting\n",
    "\n",
    "**Run-up level**\n",
    "\n",
    "$$\n",
    "Ru_{2\\%} = 8 \\cdot H_s \\cdot \\tan(\\alpha)\n",
    "$$\n",
    "\n",
    "Where:\n",
    "- $Ru_{2\\%}$ [m] is the _vertical_ distance over which waves run up a slope after breaking, relative to the \"still\" water level\n",
    "- $H_s$ [m] is the significant wave height\n",
    "- $\\alpha$ is the slope (can specify in degrees or radians as long as you use $\\tan$ appropriately)\n",
    "\n",
    "**Water depth, offshore**\n",
    "\n",
    "Here \"offshore\" refers to the conditions that are relatively far from the shore; for this case, it can be taken as the inlet entrance.\n",
    "\n",
    "$$\n",
    "d_{\\mathrm{offshore}}  = Z_w - Z_b\n",
    "$$\n",
    "\n",
    "Where:\n",
    "- $Z$ denotes elevation relative to a datum such that the toe of the dike is $Z$=0 m (in other words: 0 m is not necessarily sea level!)\n",
    "- $Z_w$ and $Z_b$ are elevations of the water surface and bottom level of the inlet. They are considered random variables in order to take into account the tide and variability of bottom level, respectively.\n",
    "\n",
    "As the bottom of the inlet has a variable elevation, this is an average depth.\n",
    "\n",
    "**Water elevation/depth at the dike**\n",
    "\n",
    "Because the setup is evaluated using offshore conditions, and we assume that the wave system does not change as it propagates through the inlet (ignore wind waves, damping, shoaling, breaking, etc.) the water depth at the dike can be approximated as a simple summation of the tidal level, \n",
    "\n",
    "$$\n",
    "Z_d = Z_w + Ru_{2\\%} + S\n",
    "$$ \n",
    "\n",
    "Substituting each part from above gives the complete equation:\n",
    "\n",
    "$$\n",
    "Z_d\n",
    "= Z_w\n",
    "+ 8 H_s \\tan(\\alpha)\n",
    "+ C \\frac{u^2}{g (Z_w - Z_b)}F\n",
    "$$\n",
    "\n",
    "For our later tasks, note in particular the relationship of the four random variables:\n",
    "- linearly proportional to $H_s$ and $u^2$\n",
    "- non-linear relationship with $Z_w$ and $Z_b$"
   ]
  },
  {
   "cell_type": "code",
   "execution_count": 1,
   "metadata": {
    "tags": [
     "disable-download-tag",
     "thebe-init",
     "thebe-remove-input-init"
    ]
   },
   "outputs": [],
   "source": [
    "import numpy as np\n",
    "import matplotlib.pyplot as plt\n",
    "import scipy.stats as st\n",
    "\n",
    "def wind_set_up(u, d, F=3000, C=4.0e-6):\n",
    "    \"\"\"\n",
    "    Calculate wind set-up at the toe of the dike, relative to still water level.\n",
    "\n",
    "    Parameters\n",
    "    ----------\n",
    "    u : float\n",
    "        [m/s] Representative wind speed\n",
    "    d : float\n",
    "        [m] Average depth over fetch length. Take \"offshore\" depth as proxy.\n",
    "    F : float\n",
    "        [m] Fetch length, default is 3000 m (3 km)\n",
    "    C : float, optional\n",
    "        [-] Empirical constant, between 3.5e-6 and 4.0e-6, default is 4.0e-6\n",
    "    \n",
    "    Returns\n",
    "    -------\n",
    "    S : float\n",
    "        [m] Wind set-up at toe of the dike\n",
    "    \"\"\"\n",
    "\n",
    "    g = 9.81\n",
    "    S = C*(u**2)/(g*d)*F  \n",
    "    return S\n",
    "\n",
    "def run_up_level(Hs, alpha):\n",
    "    import numpy as np\n",
    "    \"\"\"\n",
    "    Calculate run-up level at the toe of the dike, relative to still water level.\n",
    "\n",
    "    Parameters\n",
    "    ----------\n",
    "    Hs : float\n",
    "        [m] Significant wave height\n",
    "    alpha : float\n",
    "        [degrees] Angle of the slope of the toe of dike\n",
    "    \n",
    "    Returns\n",
    "    -------\n",
    "    Ru2 : float\n",
    "        [m] Run-up level, exceeded by 2% of the waves\n",
    "    \"\"\"\n",
    "    # Since numpy works with radians, we need to convert the angle to radians\n",
    "    alpha_radians = np.radians(alpha)\n",
    "\n",
    "    Ru2 = 8*Hs*np.tan(alpha_radians)\n",
    "    return Ru2\n",
    "\n",
    "def water_at_dike(Hs, u, Zw, Zb, alpha=20, F=10000, C2 = 4.0e-6):\n",
    "    \"\"\"\n",
    "    Calculate the effective water elevation at the dike.\n",
    "\n",
    "    Parameters\n",
    "    ----------\n",
    "    Hs : float\n",
    "        [m] Significant wave height\n",
    "    alpha : float\n",
    "        [degrees] Angle of the slope of the toe of dike\n",
    "    u : float\n",
    "        [m/s] Representative wind speed\n",
    "    d : float\n",
    "        [m] Average depth over fetch length\n",
    "    F : float\n",
    "        [m] Fetch length\n",
    "    Zw : float\n",
    "        [m] Offshore water elevation (tidal level)\n",
    "    Zb : float\n",
    "        [m] Offshore bed level (or bottom level)\n",
    "    \n",
    "    Intermediate Parameter\n",
    "    ----------------------\n",
    "    d_offshore : float\n",
    "        [m] Depth of water at the offshore location, Zw - Zb\n",
    "\n",
    "    Returns\n",
    "    -------\n",
    "    Zd : float\n",
    "        [m] Elevation of water level at the dike.\n",
    "              - Equivalent to water depth, as datum is toe of dike\n",
    "              - Sum of tidal level, run-up, wind set-up\n",
    "    \"\"\"\n",
    "\n",
    "    d_offshore = Zw - Zb\n",
    "\n",
    "    S = wind_set_up(u, d_offshore, F, C2)\n",
    "\n",
    "    Ru2 = run_up_level(Hs, alpha)\n",
    "    \n",
    "    Zd = Zw + Ru2 + S\n",
    "\n",
    "    return Zd"
   ]
  },
  {
   "cell_type": "markdown",
   "metadata": {},
   "source": [
    "## Part 1: Functional response of the system (deterministic)\n",
    "\n",
    "1. Identify the main physical processes that are at play in this problem, and get familiar with the equations available to describe them.\n",
    "2. Write an equation (on paper) to define failure of the dike. You can use the code provided to check your answer.\n",
    "3. Now that you have an equation, identify which parameters have a positive or negative effect on the performance of the dike (hint: check the partial derivatives!)\n",
    "4. Which environmental variable governs the dike design in this situation? Wave height or wind setup?\n",
    "\n",
    "```{admonition} Solution, Part 1\n",
    "\n",
    "The relevant processes and equations are defined above. It is important to recognize that even though the waves are periodic, the concept of 2% wave runup height allows us to use a single value to evaluate whether or not the dike height is sufficient. As $Z_d$ increases, the dike becomes less safe; failure is assumed to happen when $Z_d>Z_{\\mathrm{crest}}$.\n",
    "\n",
    "From the equation of $Z_d$ it is relatively straightforward to see whether each variable has a positive or negative impact\n",
    "\n",
    "Although not illustrated here thoroughly, you can use the Python function below to change the values of the input variables and see which has the largest change on the output. A few observations are described here:\n",
    "- Water surface elevation has the largest effect when making a 10% change in the absolute value\n",
    "- Significant wave height has the biggest infinitesimal impact on the water level height\n",
    "- The sensitivity of wind speed is _higher_ when the initial value of wind speed is higher (e.g., 30 m/s instead of 20 m/s)\n",
    "\n",
    "The takeaways are:\n",
    "- Because the units are different, it can be difficult to compare all variables in a consistent way\n",
    "- The \"initial\" values that you consider make an impact on the conclusion\n",
    "- Variability of the variables should also be taken into account, because it gives an idea for hwhat the likely range of change is for each one\n",
    "```"
   ]
  },
  {
   "cell_type": "code",
   "execution_count": null,
   "metadata": {
    "tags": [
     "hide-input"
    ]
   },
   "outputs": [],
   "source": [
    "def check_sensitivity(function, values, index, change, absolute_value=False):\n",
    "    \"\"\"\n",
    "    Check sensitivity of a function to a change in one of its arguments.\n",
    "\n",
    "    Parameters\n",
    "    ----------\n",
    "    function : function\n",
    "        The function for which the sensitivity is to be checked\n",
    "    values : list\n",
    "        List of arguments to the function\n",
    "    index : int\n",
    "        Index of the argument to be changed\n",
    "    change : float\n",
    "        The amount by which the argument is to be changed\n",
    "    absolute_value : bool, optional\n",
    "        If True, the change is added to the argument.\n",
    "        If False, the argument is multiplied by the change.\n",
    "        Default is False.\n",
    "\n",
    "    Returns\n",
    "    -------\n",
    "    None\n",
    "    \"\"\"\n",
    "\n",
    "    start_value = (values[0],\n",
    "                   values[1],\n",
    "                   values[2],\n",
    "                   values[3])\n",
    "\n",
    "    if absolute_value:\n",
    "        changes = [0, 0, 0, 0]\n",
    "        changes[index] = change\n",
    "        moved_value = (values[0] + changes[0],\n",
    "                       values[1] + changes[1],\n",
    "                       values[2] + changes[2],\n",
    "                       values[3] + changes[3])\n",
    "        print(f'Changing argument {index} by adding {change:.2f}')\n",
    "    else:\n",
    "        changes = [1., 1., 1., 1.]\n",
    "        changes[index] = change\n",
    "        moved_value = (values[0]*changes[0],\n",
    "                       values[1]*changes[1],\n",
    "                       values[2]*changes[2],\n",
    "                       values[3]*changes[3])\n",
    "        print(f'Changing argument {index} by {change:.1e} times')\n",
    "        \n",
    "\n",
    "    one = function(*start_value)\n",
    "    two = function(*moved_value)\n",
    "\n",
    "    print(f'--------------------------------------------------------')\n",
    "    print(f'The starting value is {one:.3f}')\n",
    "    print(f'The moved value is {two:.3f}')\n",
    "    print(f'The calculated value has changed by {two - one:.2e}\\n')\n"
   ]
  },
  {
   "cell_type": "code",
   "execution_count": null,
   "metadata": {},
   "outputs": [
    {
     "name": "stdout",
     "output_type": "stream",
     "text": [
      "Changing argument 0 by 1.0e-03 times\n",
      "--------------------------------------------------------\n",
      "The starting value is 7.455\n",
      "The moved value is 4.547\n",
      "The calculated value has changed by -2.91e+00\n",
      "\n",
      "Changing argument 1 by 1.0e-03 times\n",
      "--------------------------------------------------------\n",
      "The starting value is 7.455\n",
      "The moved value is 6.912\n",
      "The calculated value has changed by -5.44e-01\n",
      "\n",
      "Changing argument 2 by 1.0e-03 times\n",
      "--------------------------------------------------------\n",
      "The starting value is 7.455\n",
      "The moved value is 1.278\n",
      "The calculated value has changed by -6.18e+00\n",
      "\n",
      "Changing argument 3 by 1.0e-03 times\n",
      "--------------------------------------------------------\n",
      "The starting value is 7.455\n",
      "The moved value is 7.320\n",
      "The calculated value has changed by -1.36e-01\n",
      "\n"
     ]
    }
   ],
   "source": [
    "for i in range(4):\n",
    "    check_sensitivity(water_at_dike, [1, 20, 4, 1], i, .001)"
   ]
  },
  {
   "cell_type": "markdown",
   "metadata": {},
   "source": [
    "## Part 2: Uncertainty in the system\n",
    "\n",
    "_Here is where you apply the [continuous parametric distributions](https://mude.citg.tudelft.nl/2023/book/probability/Reminder_intro.html) from MUDE!_\n",
    "\n",
    "1. Define the distributions of each random variable using `scipy.stats` and get familiar with their characteristics\n",
    "2. Which random variables have the most significant variability?\n",
    "3. Identify how each random variable influences the equations defined in the deterministic part above.\n",
    "4. Which random variable do you think will govern the dike design in this situation?\n",
    "\n",
    "```{admonition} Solution, Part 2\n",
    "First the distributions are defined as instances of the class `rv_continuous` from `scipy.stats`, then a few calculations are made and put into a table to see what the variability of each random variable is.\n",
    "```"
   ]
  },
  {
   "cell_type": "code",
   "execution_count": 11,
   "metadata": {},
   "outputs": [
    {
     "name": "stdout",
     "output_type": "stream",
     "text": [
      "Variable  Dist      Mean      Std Dev   c.o.v.    5% value  95% value 99% value \n",
      "Hs        gumbel_r  1.115     0.257     0.230     0.781     1.594     1.920     \n",
      "u         expon     21.000    1.000     0.048     20.051    22.996    24.605    \n",
      "Z_w       norm      4.000     0.400     0.100     3.342     4.658     4.931     \n",
      "Z_bed     norm      1.000     0.100     0.100     0.836     1.164     1.233     \n"
     ]
    }
   ],
   "source": [
    "Hs = st.gumbel_r(loc=1, scale=0.2)\n",
    "u = st.expon(loc=20, scale=1)\n",
    "Zw = st.norm(loc=4, scale=0.4)\n",
    "Zb = st.norm(loc=1, scale=0.1)\n",
    "\n",
    "all_dist_vars = ['Hs', 'u', 'Z_w', 'Z_bed']\n",
    "all_dist = [Hs, u, Z_w, Z_bed]\n",
    "table = [['Variable', 'Dist', 'Mean', 'Std Dev', 'c.o.v.', \n",
    "          '5% value', '95% value', '99% value']]\n",
    "for variable, dist in zip(all_dist_vars, all_dist):\n",
    "    table.append([variable,\n",
    "                  dist.dist.name,\n",
    "                  '{:0.3f}'.format(dist.mean()),\n",
    "                  '{:0.3f}'.format(dist.std()),\n",
    "                  '{:0.3f}'.format(dist.std()/dist.mean()),\n",
    "                  '{:0.3f}'.format(dist.ppf(0.05)),\n",
    "                  '{:0.3f}'.format(dist.ppf(0.95)),\n",
    "                  '{:0.3f}'.format(dist.ppf(0.99))])\n",
    "\n",
    "for row in table:\n",
    "    print(''.join([f'{item: <10}' for item in row]))\n"
   ]
  },
  {
   "cell_type": "markdown",
   "metadata": {},
   "source": [
    "```{admonition} Solution, Part 2 (continued)\n",
    "\n",
    "First of all, note that for the non-Gaussian distributions the location and scale parameters are **not** the same thing as the mean and standard deviation! However, in this case, the numerical values are not that different.\n",
    "\n",
    "It is clear that the wind speed has the largest quantitative range, but it is important to recognize that this does _not_ imply that it has the biggest impact on the dike design. The concept of _variability_ can be difficult to quantify consistently, as the relative range and units of a random variable make it difficult to compare (for example, wind speed and wave height are in m/s and m, respectively). In addition, the _variability_ of a random variable should be somehow related to the absolute value of common realizations. This is why coefficient of variation (c.o.v., $\\sigma/\\mu$) is a useful metric. In this case it is clear that the c.o.v. of wave height is much higher than wind speed. But does that mean it will have the biggest impact on the dike design? Not necessarily!\n",
    "\n",
    "Recall from Part 1 that the random variables all combine to produce an effective water level at the dike. We can't tell from the distributions of the random variables themselves if the wind speed or the wave height would increase the effective water level observed at the dike more _given the probability distributions associated with them._ To understand that we need to somehow combine the likelihood of high values of these \"load\" variables along with the mechanical response of the dike (i.e., plug the values into the function from Part 1!). We will do this in Part 3.\n",
    "```"
   ]
  },
  {
   "cell_type": "markdown",
   "metadata": {},
   "source": [
    "## Part 3: Assessing the system\n",
    "\n",
    "1. Using the Python functions provided, identify conditions where the dike (in its \"current\" form) is unsafe (using deterministic values only). Describe these critical conditions using a few values and figures.\n",
    "2. Compute the probability that dike is unsafe. Does it meet the safety criteria?\n",
    "\n",
    "```{admonition} Solution, Part 3\n",
    "\n",
    "We already have a function to quantify the demand, or \"load,\" on the system: $Z_d$. The survivial or \"resistance\" of the dike is a simple check of whether the calculated load exceeds the capacity (the crest height).\n",
    "\n",
    "The \"Monte Carlo Simulation\" part comes in because we would like to do this for many realizations of the random variables, to estimate the failure probaiblity as the fraction of realizations where the dike has \"failed.\" Since the random variables are all statistically independent, we can sample from each distribution separately, then plug the values into our function to obtain an empirical distribution of $Z_d$. Then the failure probability is simply $P[Z_d>Z_{\\mathrm{crest}}]$.\n",
    "\n",
    "This is illustrated in the code below.\n",
    "```"
   ]
  },
  {
   "cell_type": "code",
   "execution_count": 47,
   "metadata": {},
   "outputs": [
    {
     "name": "stdout",
     "output_type": "stream",
     "text": [
      "There are 373 samples greater than the dike height of 8.00 m \n",
      "(37.30% of the samples).\n"
     ]
    }
   ],
   "source": [
    "n = 1000\n",
    "\n",
    "Hs_samples = Hs.rvs(size = n)\n",
    "u_samples = u.rvs(size = n)\n",
    "Zw_samples = Zw.rvs(size = n)\n",
    "Zb_samples = Zb.rvs(size = n)\n",
    "\n",
    "d_offshore = Zw_samples - Zb_samples\n",
    "\n",
    "Zd_samples = water_at_dike(Hs_samples,\n",
    "                           u_samples,\n",
    "                           Zw_samples,\n",
    "                           Zb_samples)\n",
    "dike_height = 8\n",
    "count = np.sum(Zd_samples > dike_height)\n",
    "print(f'There are {count} samples greater than the dike height of {dike_height:0.2f} m ')\n",
    "print(f'({count/n*100:0.2f}% of the samples).')"
   ]
  },
  {
   "cell_type": "markdown",
   "metadata": {},
   "source": [
    "```{admonition} Solution, Part 3 (continued)\n",
    "\n",
    "As we can see, the calculated probability far exceeds the allowable probability of 1%, so we must do something to improve this dike!\n",
    "```"
   ]
  },
  {
   "cell_type": "code",
   "execution_count": 46,
   "metadata": {
    "tags": [
     "remove-input"
    ]
   },
   "outputs": [
    {
     "data": {
      "image/png": "[encoded data removed]",
      "text/plain": [
       "<Figure size 640x480 with 1 Axes>"
      ]
     },
     "metadata": {},
     "output_type": "display_data"
    },
    {
     "data": {
      "image/png": "[encoded data removed]",
      "text/plain": [
       "<Figure size 640x480 with 1 Axes>"
      ]
     },
     "metadata": {},
     "output_type": "display_data"
    }
   ],
   "source": [
    "plt.hist(d_dike_samples, bins=20)\n",
    "plt.show()\n",
    "\n",
    "d_offshore = Zw_samples - Zb_samples\n",
    "plt.hist(d_offshore, bins=20)\n",
    "plt.show()"
   ]
  },
  {
   "cell_type": "markdown",
   "metadata": {},
   "source": [
    "## Part 4: Designing a better system\n",
    "\n",
    "1. Reconsider the deterministic and random variables and identify if and how each of them could be changed to improve the system. You should be able to think of explicit examples for what you can do in \"real life\" and explain the quantitative effect on each variable. For the random variables, you should explicitly consider whether you can influence one of three things: the mean, standard deviation or type of distribution. You should also explain whether a measure is practical. For example: _making the inlet more shallow by placing dredge spoils in it would reduce the mean value of water depth and would impact the runup height by ... ... ...; however, this is probably very expensive and not a very practical idea!_\n",
    "2. Make a recommendation for how you can improve the system to meet the safety criteria. Explain the quantitative effect on the system (as described above) and provide quantitative confirmation that in these conditions the dike is safe.\n"
   ]
  },
  {
   "cell_type": "markdown",
   "metadata": {},
   "source": [
    "```{admonition} Solution, Part 4\n",
    "\n",
    "There are many approaches to this, so you are encouraged to use the code yourself to explore various options. The main approach is to change the deterministic parameters and the location and scale of the random variables to see the quantitative effect on probability. Observations should include:\n",
    "- you can have achieve big improvements by changing $u$ and $H_s$, however, since these are natural phenomenon, it is difficult to influence them. One practical measure could be installing something in the inlet to reduce wave heights.\n",
    "- a similar observation can be made about the water and bottom elevations: these variables have an influence on the calculated probability, but are difficult to make changes in practice\n",
    "- the most \"obvious\" or \"practical\" solutions would be to raise the dike or decrease the slope (this only impacts the wave runup). The choice for which one is selected would probably come down to the cost of materials (i.e., how does the cross-sectional area change?).\n",
    "```"
   ]
  }
 ],
 "metadata": {
  "kernelspec": {
   "display_name": "Python 3",
   "language": "python",
   "name": "python3"
  },
  "language_info": {
   "codemirror_mode": {
    "name": "ipython",
    "version": 3
   },
   "file_extension": ".py",
   "mimetype": "text/x-python",
   "name": "python",
   "nbconvert_exporter": "python",
   "pygments_lexer": "ipython3",
   "version": "3.11.4"
  }
 },
 "nbformat": 4,
 "nbformat_minor": 2
}
