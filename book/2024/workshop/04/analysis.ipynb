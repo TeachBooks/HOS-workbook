{
 "cells": [
  {
   "cell_type": "markdown",
   "metadata": {},
   "source": [
    "# Workshop 04: Component Reliability\n",
    "\n",
    "**Solution.**\n",
    "\n",
    "In this workshop, we will perform a reliability analysis of a structural problem: the reliability of a short column. In particular, we consider a column subjected to biaxial bending moments $M_1$ and $M_2$ and an axial force $P$ and is illustrated below. \n",
    "\n",
    "![column subjected to biaxial bending](./fig_column.png \"Short column subjected to biaxial bending.\")\n",
    "\n",
    "Assuming an elastic perfectly plastic material with yield strength $y$, the failure of the column is defined by the limit state function:\n",
    "\n",
    "$$ g(\\mathbf{x}) = 1 - \\frac{M_1}{s_1 Y} - \\frac{M_2}{s_2 Y} - \\left(\\frac{P}{a Y}\\right)^2 $$\n",
    "\n",
    "where $ \\mathbf{x} = \\{M_1, M_2, P, Y\\}^T $ represents the vector of random variables, $a=0.190 m^2$ is the cross-sectional area, $s_1=0.030 m^2$ and $s_2=0.015 m^2$ are the flexural moduli of the fully plastic column section. Assume $M_1$ and $M_2$ are correlated with a coefficient $\\rho=0.5$. The distribution paramaters are given in the table below:\n",
    "\n",
    "| Variable | Marginal distribution | Mean | c.o.v | \n",
    "| --- | --- | --- | --- |\n",
    "| $M_1$ | Normal | 250 | 0.3 |\n",
    "| $M_2$ | Normal | 125 | 0.3 |\n",
    "| $P$ | Gumbel | 2500 | 0.2 |\n",
    "| $Y$ | Weibull | 40000 | 0.1 |\n",
    "\n",
    "**Note:** c.o.v. is _coefficient of variation_, $\\sigma/\\mu$. This is another way of defining describing the variance of a random variable, from which the standard deviation can also be found (given the mean is known). Don't confuse this with _covariance_ ($cov$ or $Cov$).\n"
   ]
  },
  {
   "cell_type": "markdown",
   "metadata": {},
   "source": [
    "<div style=\"background-color:#ffa6a6; color: black; vertical-align: middle; padding:15px; margin: 10px; border-radius: 10px; width: 95%\"><p><b>This:</b> there was a typo in the original assignment. Rather than 40, the mean value of Y should have been 40000. This would not have caused problems with the final interpretation of the reliabiltiy methods, except that the mean value of the LSF would have indicated a <em>very</em> unsafe situation, and the distribution of Y defined using OpenTURNs would not have been consistent with the values in Task 2. See email and lecture clarification for further clarification.</p></div>"
   ]
  },
  {
   "cell_type": "markdown",
   "metadata": {},
   "source": [
    "\n",
    "## Main Objective\n",
    "\n",
    "The purpose of a component reliability problem is to compute the failure probability of the component. Once we have a limit state function, we can do this by solving the following integral:\n",
    "\n",
    "$$\n",
    "p_f = P[g<0] = F_g(g=0) = \\int_{-\\infty}^{0} f_g(x) \\; \\mathrm{d}X\n",
    "$$\n",
    "\n",
    "The challenge is that finding a the PDF of $g_X(x)$ is not trivial.\n",
    "\n",
    "The purpose of this assignment is to illustrate two commonly used algorithms for dealing with this. First we will use a very approximate method (one you are already familiar with in MUDE), along with a few exercises to help understand the component reliability problem. Then we use OpenTURNs to apply two algorithms: Monte Carlo Simulation and FORM (First-Order Reliability Analysis)."
   ]
  },
  {
   "cell_type": "code",
   "execution_count": 1,
   "metadata": {},
   "outputs": [],
   "source": [
    "import scipy.stats as stats\n",
    "import numpy as np\n",
    "import matplotlib.pyplot as plt\n",
    "import matplotlib.cm as cm\n",
    "import openturns as ot\n",
    "import openturns.viewer as viewer\n",
    "ot.Log.Show(ot.Log.NONE)\n",
    "import sympy as sp"
   ]
  },
  {
   "cell_type": "markdown",
   "metadata": {},
   "source": [
    "## Task 1: Getting Started\n",
    "\n",
    "Let's take care of a few initial tasks to warm up and get familiar with the problem. The first steps consist in assigning the problem to python variables. First the deterministic parameters, then some of the \"key ingredients\" of our reliability problem (the random variables, multivariate distribution and the limit-state function).\n",
    "\n",
    "_Note that the multivariate distribution will be defined later in OpenTURNs directly. For now we will only deal with the mean and variance marginal distributions (which implies statistical independence between all variables)._"
   ]
  },
  {
   "cell_type": "code",
   "execution_count": 2,
   "metadata": {},
   "outputs": [],
   "source": [
    "a = 0.190\n",
    "s1 = 0.030\n",
    "s2 = 0.015"
   ]
  },
  {
   "cell_type": "markdown",
   "metadata": {},
   "source": [
    "<div style=\"background-color:#AABAB2; color: black; vertical-align: middle; padding:3px 20px; color: black; border-radius: 10px; width: 95%\">\n",
    "<p>\n",
    "<b>Task 1.1:</b>\n",
    "Define the mean and variance of the marginal distributions.\n",
    "</p>\n",
    "</div>"
   ]
  },
  {
   "cell_type": "code",
   "execution_count": 3,
   "metadata": {},
   "outputs": [],
   "source": [
    "mean_M1 = 250\n",
    "std_M1 = 0.3*mean_M1\n",
    "variance_M1 = std_M1**2\n",
    "mean_M2 = 125\n",
    "std_M2 = 0.3*mean_M2\n",
    "variance_M2 = std_M2**2\n",
    "mean_P = 2500\n",
    "std_P = 0.2*mean_P\n",
    "variance_P = std_P**2\n",
    "mean_Y = 40000\n",
    "std_Y = 0.1*mean_Y\n",
    "variance_Y = std_Y**2\n",
    "\n",
    "mean_vector = [mean_M1, mean_M2, mean_P, mean_Y]\n",
    "std_vector = [std_M1, std_M2, std_P, std_Y]"
   ]
  },
  {
   "cell_type": "markdown",
   "metadata": {},
   "source": [
    "We would like to define our limit-state function (LSF) using a Python function. Becaues the function will be called many times and it is inefficient computationally to use a for loop, the LSF should be vectorized, which means that the function allows all the points in a sample to be evaluated at once without making a for loop : **arguments and returns can be lists**. \n",
    "\n",
    "<div style=\"background-color:#AABAB2; color: black; vertical-align: middle; padding:3px 20px; color: black; border-radius: 10px; width: 95%\">\n",
    "<p>\n",
    "<b>Task 1.2:</b>\n",
    "Define the limit-state function and confirm that the function has been vectorized.\n",
    "</p>\n",
    "</div>"
   ]
  },
  {
   "cell_type": "markdown",
   "metadata": {},
   "source": [
    "<div style=\"background-color:#FAE99E; color: black; vertical-align: middle; padding:3px 20px; color: black; border-radius: 10px; width: 95%\">\n",
    "<p>\n",
    "<b>Solution start</b>\n",
    "</p>\n",
    "</div>\n",
    "\n",
    "The solution is in the code cell below."
   ]
  },
  {
   "cell_type": "code",
   "execution_count": 4,
   "metadata": {},
   "outputs": [],
   "source": [
    "def myLSF(x):\n",
    "    ''' \n",
    "    Vectorized limit-state function.\n",
    "\n",
    "    Arguments:\n",
    "    x: vector. x=[m1, m2, p, y].\n",
    "\n",
    "    Returns: a list with the value of g(x).\n",
    "    '''\n",
    "    g = [1 - x[0]/(s1*x[3]) - x[1]/(s2*x[3]) - (x[2]/(a*x[3]))**2]\n",
    "    return g\n",
    "\n",
    "x = mean_vector\n",
    "g = myLSF(x)\n",
    "assert type(g) == list\n",
    "assert len(g) == len(x)/4"
   ]
  },
  {
   "cell_type": "markdown",
   "metadata": {},
   "source": [
    "<div style=\"background-color:#FAE99E; color: black; vertical-align: middle; padding:3px 20px; color: black; border-radius: 10px; width: 95%\">\n",
    "<p>\n",
    "<b>Solution end</b>\n",
    "</p>\n",
    "</div>"
   ]
  },
  {
   "cell_type": "markdown",
   "metadata": {},
   "source": [
    "## Task 2: Initial non-deterministic approaches\n",
    "\n",
    "Now we would like to gain some understanding of the component we wish to evaluate. Let's begin by evaluating whether it is stable in its current condition.\n",
    "\n",
    "<div style=\"background-color:#AABAB2; color: black; vertical-align: middle; padding:3px 20px; color: black; border-radius: 10px; width: 95%\">\n",
    "<p>\n",
    "<b>Task 2.1:</b>\n",
    "Evaluate the limit state function at the mean values of the random variables and determine whether or not you think it is stable.\n",
    "</p>\n",
    "</div>"
   ]
  },
  {
   "cell_type": "code",
   "execution_count": 5,
   "metadata": {},
   "outputs": [
    {
     "name": "stdout",
     "output_type": "stream",
     "text": [
      "The limit state function at x=[250, 125, 2500, 40000] is 4.75e-01\n"
     ]
    }
   ],
   "source": [
    "x = mean_vector\n",
    "g = myLSF(x)\n",
    "print(f'The limit state function at x={x} is {g[0]:.2e}')"
   ]
  },
  {
   "cell_type": "markdown",
   "metadata": {},
   "source": [
    "<div style=\"background-color:#FAE99E; color: black; vertical-align: middle; padding:3px 20px; color: black; border-radius: 10px; width: 95%\">\n",
    "<p>\n",
    "<b>Solution</b>\n",
    "The value is much less than 0, indicated that the mean values of the variables produce a failed state. That is pretty bad!\n",
    "</p>\n",
    "</div>"
   ]
  },
  {
   "cell_type": "markdown",
   "metadata": {},
   "source": [
    "We can also define the function using `Sympy`!"
   ]
  },
  {
   "cell_type": "code",
   "execution_count": 6,
   "metadata": {},
   "outputs": [
    {
     "name": "stdout",
     "output_type": "stream",
     "text": [
      "The limit state function at x=[250, 125, 2500, 40000] is 4.75127e-01\n"
     ]
    }
   ],
   "source": [
    "m1, m2, p, y = sp.symbols('m1 m2 p y')\n",
    "g_sympy = 1 - m1/(s1*y) - m2/(s2*y) - (p/(a*y))**2\n",
    "g_lambdified = sp.lambdify((m1, m2, p, y), g_sympy, modules='numpy')\n",
    "g_mean = g_lambdified(250, 125, 2500, 40000)\n",
    "print(f'The limit state function at x={mean_vector} is {g_mean:.5e}')"
   ]
  },
  {
   "cell_type": "markdown",
   "metadata": {},
   "source": [
    "<div style=\"background-color:#FAE99E; color: black; vertical-align: middle; padding:3px 20px; color: black; border-radius: 10px; width: 95%\">\n",
    "<p>\n",
    "<b>Solution end</b>\n",
    "</p>\n",
    "</div>"
   ]
  },
  {
   "cell_type": "markdown",
   "metadata": {},
   "source": [
    "### Distribution of the Linearized Limit State Function\n",
    "\n",
    "Now we will try to solve for the failure probability in a simple way. Recall from MUDE that using Taylor's Series we can approximate the expectation and variance of a function of random variables (see [error propagation page](https://mude.citg.tudelft.nl/book/propagation_uncertainty/01_ErrorPropagation.html)). We can use this approach to approximate the failure probability as follows:\n",
    "- linearize the limit state function, $\\hat{g}_X(x) \\approx g_X(x)$ (only the first-order term is needed; the first partial derivative)\n",
    "- compute the expectation and variance of the linearized function, $\\mathbb{E}[\\hat{g}_X(x)]$ and $\\sigma_{\\hat{g}_X(x)}^2$\n",
    "- evaluate the probability of failure as $\\mathrm{P}[\\hat{g}_X(x)<0]$, assuming $\\hat{g}_X(x)$ follows a Normal distribution"
   ]
  },
  {
   "cell_type": "markdown",
   "metadata": {},
   "source": [
    "<div style=\"background-color:#AABAB2; color: black; vertical-align: middle; padding:3px 20px; color: black; border-radius: 10px; width: 95%\">\n",
    "<p>\n",
    "<b>Task 2.2:</b>\n",
    "Approximate the expectation and variance of the limit state function, then solve for the failure probability using the approach outlined above.\n",
    "\n",
    "<em>Hint: it would be easiest to write this out by hand, and you you will probably also find it useful to make a table with rows for the random variables and columns for various steps in the calculation.</em> \n",
    "</p>\n",
    "</div>"
   ]
  },
  {
   "cell_type": "markdown",
   "metadata": {},
   "source": [
    "<div style=\"background-color:#FAE99E; color: black; vertical-align: middle; padding:3px 20px; color: black; border-radius: 10px; width: 95%\">\n",
    "<p>\n",
    "<b>Solution start</b>\n",
    "<br>\n",
    "Derivatives were found by hand (not shown here in entirety), and Sympy was used to check the calculations (see assert statements).\n",
    "</p>\n",
    "</div>\n",
    "\n"
   ]
  },
  {
   "cell_type": "markdown",
   "metadata": {},
   "source": [
    "The expectation of the function can be found as follows:\n",
    "\n",
    "$$\n",
    "\\mathbb{E}\\big[\\hat{g}_X(x)\\big] = \\mathbb{E}\\Bigg[g(\\mu_X) + \\sum_i \\bigg[(X - \\mu_{X_i})\\frac{\\partial g}{\\partial X_i} \\bigg|_{\\mu_X} \\bigg]\\Bigg]\n",
    "$$\n",
    "\n",
    "Where $i$ denotes each random variable. Notice that if we evaluate the expectation of the linearized function the term $(X - \\mu_{X_i})$ becomes 0; this is why the expectation of the linearized function is simply the function evaluated at the mean point of each random variable.\n",
    "\n",
    "The variance of the linearized function is:\n",
    "\n",
    "$$\n",
    "\\sigma_{\\hat{g}_X(x)}^2\n",
    "= \\sum_i \\Bigg[\\sigma_{X_i}^2 \\bigg(\\frac{\\partial g}{\\partial X_i} \\bigg|_{\\mu_X}\\bigg)^2\\Bigg]\n",
    "$$\n",
    "\n",
    "Thus, the variance is simply the sum of the product of variances with the corresponding partial derivative, evaluated at the mean (the expansion point).\n",
    "\n",
    "Partial derivatives are:\n",
    "\n",
    "$$\n",
    "\\frac{\\partial g}{\\partial M_1} = -\\frac{1}{s_1 Y}\n",
    "$$\n",
    "\n",
    "$$\n",
    "\\frac{\\partial g}{\\partial M_2} = -\\frac{1}{s_2 Y}\n",
    "$$\n",
    "\n",
    "$$\n",
    "\\frac{\\partial g}{\\partial P} = -\\frac{2P}{aY^2}\n",
    "$$\n",
    "\n",
    "$$\n",
    "\\frac{\\partial g}{\\partial Y} = \\frac{M_1}{s_1 Y^2} + \\frac{M_2}{s_2 Y^2} + \\frac{2P^2}{a Y^3}\n",
    "$$"
   ]
  },
  {
   "cell_type": "markdown",
   "metadata": {},
   "source": [
    "<div style=\"background-color:#facb8e; color: black; vertical-align: middle; padding:15px; margin: 10px; border-radius: 10px; width: 95%\"> <p>Note that here we ignore the correlation/dependence. If included, there would be another term in the variance equation (only one term, as there is only dependence between 2 of the 4 random variables). Including this would have a minimal effect on the calculation, as confirmed by the quantitative effect of depednence for MCS and FORM, below.</p></div>"
   ]
  },
  {
   "cell_type": "code",
   "execution_count": 32,
   "metadata": {},
   "outputs": [
    {
     "name": "stdout",
     "output_type": "stream",
     "text": [
      "dg/dm1 = -8.33e-04\n",
      "dg/dm2 = -1.67e-03\n",
      "dg/dp = -8.66e-05\n",
      "dg/dy = 1.58e-05\n",
      "Variance of M1: 5.62e+03\n",
      "Variance of M2: 1.41e+03\n",
      "Variance of P: 2.50e+05\n",
      "Variance of Y: 1.60e+07\n",
      "The contribution of each term to the variance is:)\n",
      "  3.906e-03\n",
      "  3.906e-03\n",
      "  1.873e-03\n",
      "  4.008e-03\n",
      "The variance of the limit state function is 1.37e-02\n",
      "The sted dev of the limit state function is 1.17e-01\n"
     ]
    }
   ],
   "source": [
    "dg_dm1 = sp.diff(g_sympy, m1)\n",
    "dg_dm2 = sp.diff(g_sympy, m2)\n",
    "dg_dp = sp.diff(g_sympy, p)\n",
    "dg_dy = sp.diff(g_sympy, y)\n",
    "\n",
    "\n",
    "dg_dm1_lambdified = sp.lambdify((m1, m2, p, y),\n",
    "                                dg_dm1, modules='numpy')\n",
    "dg_dm2_lambdified = sp.lambdify((m1, m2, p, y),\n",
    "                                dg_dm2, modules='numpy')\n",
    "dg_dp_lambdified = sp.lambdify((m1, m2, p, y),\n",
    "                               dg_dp, modules='numpy')\n",
    "dg_dy_lambdified = sp.lambdify((m1, m2, p, y),\n",
    "                               dg_dy, modules='numpy')\n",
    "\n",
    "assert np.isclose(dg_dm1_lambdified(250, 125, 2500, 40000),\n",
    "                  -1/(0.03*40000))\n",
    "assert np.isclose(dg_dm2_lambdified(250, 125, 2500, 40000),\n",
    "                  -1/(0.015*40000))\n",
    "assert np.isclose(dg_dp_lambdified(250, 125, 2500, 40000),\n",
    "                  -2*2500/(.190*40000)**2)\n",
    "assert np.isclose(dg_dy_lambdified(250, 125, 2500, 40000),\n",
    "                  250/(.03*40000**2) + 125/(0.015*40000**2)\n",
    "                  + 2*2500**2/(.190**2*40000**3))\n",
    "\n",
    "print(f'dg/dm1 = {dg_dm1_lambdified(250, 125, 2500, 40000):.2e}')\n",
    "print(f'dg/dm2 = {dg_dm2_lambdified(250, 125, 2500, 40000):.2e}')\n",
    "print(f'dg/dp = {dg_dp_lambdified(250, 125, 2500, 40000):.2e}')\n",
    "print(f'dg/dy = {dg_dy_lambdified(250, 125, 2500, 40000):.2e}')\n",
    "\n",
    "var_m1 = variance_M1\n",
    "var_m2 = variance_M2\n",
    "var_p = variance_P\n",
    "var_y = variance_Y\n",
    "\n",
    "#print the variance for each variable\n",
    "print(f'Variance of M1: {var_m1:.2e}')\n",
    "print(f'Variance of M2: {var_m2:.2e}')\n",
    "print(f'Variance of P: {var_p:.2e}')\n",
    "print(f'Variance of Y: {var_y:.2e}')\n",
    "\n",
    "g_var_i = [dg_dm1_lambdified(mean_M1, mean_M2, mean_P, mean_Y)**2 * var_m1,\n",
    "           dg_dm2_lambdified(mean_M1, mean_M2, mean_P, mean_Y)**2 * var_m2,\n",
    "           dg_dp_lambdified(mean_M1, mean_M2, mean_P, mean_Y)**2 * var_p,\n",
    "           dg_dy_lambdified(mean_M1, mean_M2, mean_P, mean_Y)**2 * var_y]\n",
    "\n",
    "print('The contribution of each term to the variance is:')\n",
    "[print(f'  {i:.3e}') for i in g_var_i]\n",
    "\n",
    "g_var = sum(g_var_i)\n",
    "\n",
    "print(f'The variance of the limit state function is {g_var:.2e}')\n",
    "g_std = np.sqrt(g_var)\n",
    "print(f'The sted dev of the limit state function is {g_std:.2e}')\n"
   ]
  },
  {
   "cell_type": "code",
   "execution_count": 8,
   "metadata": {},
   "outputs": [
    {
     "name": "stdout",
     "output_type": "stream",
     "text": [
      "Probability of failure with linear model: 2.45e-05\n"
     ]
    }
   ],
   "source": [
    "g_linear = stats.norm(loc=g_mean, scale=g_std)\n",
    "print(f'Probability of failure with linear model: {g_linear.cdf(0):.2e}')"
   ]
  },
  {
   "cell_type": "markdown",
   "metadata": {},
   "source": [
    "<div style=\"background-color:#FAE99E; color: black; vertical-align: middle; padding:3px 20px; color: black; border-radius: 10px; width: 95%\">\n",
    "<p>\n",
    "<b>Solution end</b>\n",
    "</p>\n",
    "</div>"
   ]
  },
  {
   "cell_type": "markdown",
   "metadata": {},
   "source": [
    "## Task 3: Set Up OpenTURNS\n",
    "\n",
    "As mentioned in the OpenTURNS tutorial, we will be using the `PythonFunction` class to define our LSF, which should be vectorized. Luckily you already did that above! Now we need to define the random variables (distributions).\n",
    "\n",
    "You probably observed that the information above contains each distribution's first and second moments (mean and standard deviation), which for normal distributions is enough to define them in OpenTURNS. However, the Gumbel and Weibull distributions have different distributions parameters, which are defined in OpenTURNS documentation ([Gumbel](https://openturns.github.io/openturns/latest/user_manual/_generated/openturns.Gumbel.html) and [Weibull](https://openturns.github.io/openturns/latest/user_manual/_generated/openturns.WeibullMin.html)). In the context of this workshop, we compute the distribution parameters for you to focus on the analyses; it is however a good exercise to do it yourself later.\n",
    "\n",
    "The distribution parameters for the Gumbel distribution $X \\sim Gumbel(\\beta, \\gamma)$, as presented in the OpenTURNs documentation, are defined such that:\n",
    "\n",
    "$$ \\mathbb{E}[X] = \\gamma + \\gamma_e \\beta $$\n",
    "$$ \\sigma[X] = \\frac{\\pi \\beta}{\\sqrt{6}} $$"
   ]
  },
  {
   "cell_type": "code",
   "execution_count": 9,
   "metadata": {},
   "outputs": [],
   "source": [
    "beta = (np.sqrt(6)*2500*0.2)/np.pi\n",
    "gamma = 2500 - np.euler_gamma*beta"
   ]
  },
  {
   "cell_type": "markdown",
   "metadata": {},
   "source": [
    "Likewise, the distribution parameters for the Weibull distribution $X \\sim Weibull(\\beta, \\alpha)$ are defined such that:\n",
    "\n",
    "$ \\mathbb{E}[X] = \\beta \\Gamma \\left(1 + \\frac{1}{\\alpha} \\right) $\n",
    "\n",
    "$ \\sigma [X] = \\beta  \\sqrt{\\left(\\Gamma \\left(1+\\frac{2}{\\alpha}\\right) - \\Gamma^2 \\left(1 + \\frac{1}{\\alpha} \\right)\\right)} $\n",
    "\n",
    "By solving the system of equations, we obtain $\\beta = 41700$ and $\\alpha = 12.2$."
   ]
  },
  {
   "cell_type": "markdown",
   "metadata": {},
   "source": [
    "Now that the parameters are known, we can finally create random variables objects using OpenTURNS.\n",
    "\n",
    "<div style=\"background-color:#AABAB2; color: black; vertical-align: middle; padding:3px 20px; color: black; border-radius: 10px; width: 95%\">\n",
    "<p>\n",
    "<b>Task 3.1:</b>\n",
    "Execute the cell below to define the marginal distributions of the random variables using <code>OpenTURNs</code> objects. Evaluate the attribues and methods of the objects to get familiar with the distributions.\n",
    "</p>\n",
    "</div>"
   ]
  },
  {
   "cell_type": "code",
   "execution_count": 10,
   "metadata": {},
   "outputs": [],
   "source": [
    "M1 = ot.Normal(250, 0.3*250)\n",
    "M2 = ot.Normal(125, 0.3*125)\n",
    "P = ot.Gumbel(beta, gamma)\n",
    "Y = ot.WeibullMin(41700, 12.2)"
   ]
  },
  {
   "cell_type": "code",
   "execution_count": 11,
   "metadata": {},
   "outputs": [
    {
     "name": "stdout",
     "output_type": "stream",
     "text": [
      "The mean and standard deviation of Y are  4.00e+04 and 3.98e+03\n"
     ]
    }
   ],
   "source": [
    "print('The mean and standard deviation of Y are ',\n",
    "      f'{Y.getMean()[0]:.2e} and {Y.getStandardDeviation()[0]:.2e}')"
   ]
  },
  {
   "cell_type": "markdown",
   "metadata": {},
   "source": [
    "Here is an example how you can easily visualize the PDF (there are other plotting options as well, for example, see [here](https://openturns.github.io/openturns/latest/user_manual/_generated/openturns.WeibullMin.html)):"
   ]
  },
  {
   "cell_type": "code",
   "execution_count": 12,
   "metadata": {},
   "outputs": [
    {
     "name": "stderr",
     "output_type": "stream",
     "text": [
      "c:\\Users\\rlanzafame\\code\\github-CIE42X0-PD-24\\WS04-dev\\.venv\\Lib\\site-packages\\openturns\\viewer.py:684: UserWarning: FigureCanvasAgg is non-interactive, and thus cannot be shown\n",
      "  self._fig.show(**kwargs)\n"
     ]
    },
    {
     "data": {
      "image/png": "[encoded data removed]",
      "text/plain": [
       "<Figure size 640x480 with 1 Axes>"
      ]
     },
     "metadata": {},
     "output_type": "display_data"
    }
   ],
   "source": [
    "graph = Y.drawPDF()\n",
    "view = viewer.View(graph)\n",
    "view.show()"
   ]
  },
  {
   "cell_type": "markdown",
   "metadata": {},
   "source": [
    "<div style=\"background-color:#facb8e; color: black; vertical-align: middle; padding:15px; margin: 10px; border-radius: 10px; width: 95%\"> <p>Note that the central moments of the distribution are around 40000; this is why it was obvious that there was a typo in the original assignment. It also illustrates why it is important to visualize the distributions that you are using: to <em>verify</em> that they are correct!</p></div>"
   ]
  },
  {
   "attachments": {},
   "cell_type": "markdown",
   "metadata": {},
   "source": [
    "<div style=\"background-color:#AABAB2; color: black; vertical-align: middle; padding:3px 20px; color: black; border-radius: 10px; width: 95%\">\n",
    "<p>\n",
    "<b>Task 3.2:</b>\n",
    "Read the code cell below and identify the \"key ingredients\" as implemented for OpenTURNs. Identify the correlation matrix and assign the correlation coefficient defined above to the proper combination of random variables.\n",
    "</p>\n",
    "</div>\n",
    "<br>\n",
    "<div style=\"background-color:#FAE99E; color: black; vertical-align: middle; padding:3px 20px; color: black; border-radius: 10px; width: 95%\">\n",
    "<p>\n",
    "<b>Solution:</b><br>\n",
    "The solution is in the code cell below. The main ingredients are the multivariate distribution (in this case the multivariate Gaussian, <code>NormalCopula</code>), the LSF (<code>myfunction</code>) and the region of interest (<code>failureevent</code>). The random variables have been defined previously and algorithm for finding failure probability is defined next (either MCS or FORM).\n",
    "<br><br>As you can see we specify multivariate normal, which requires only a matrix of correlation coefficients. When it comes time to include correlation, only the correlation matrix must be modified. Since the first line generates a correlation matrix of independent random variables by default, and only the first two random variables are correlated, you simply need to add the coefficient to two indices (presented in a solution box below). Remember the matrix is symmetric and diagonal in the case of independence between all variables.\n",
    "</div>"
   ]
  },
  {
   "cell_type": "code",
   "execution_count": 13,
   "metadata": {},
   "outputs": [],
   "source": [
    "R = ot.CorrelationMatrix(4)\n",
    "multinorm_copula = ot.NormalCopula(R)\n",
    "\n",
    "inputDistribution = ot.ComposedDistribution((M1, M2, P, Y), multinorm_copula)\n",
    "inputDistribution.setDescription([\"M1\", \"M2\", \"P\", \"Y\"])\n",
    "inputRandomVector = ot.RandomVector(inputDistribution)\n",
    "\n",
    "myfunction = ot.PythonFunction(4, 1, myLSF)\n",
    "\n",
    "# Vector obtained by applying limit state function to X1 and X2\n",
    "outputvector = ot.CompositeRandomVector(myfunction, inputRandomVector)\n",
    "\n",
    "# Define failure event: here when the limit state function takes negative values\n",
    "failureevent = ot.ThresholdEvent(outputvector, ot.Less(), 0)\n",
    "failureevent.setName('LSF inferior to 0')"
   ]
  },
  {
   "cell_type": "markdown",
   "metadata": {},
   "source": [
    "## Task 4: Algorithm 1, MCS\n",
    "\n",
    "OpenTURNS also allows users to perform Monte Carlo Simulations. This algorithm is simple, as we only need to produce a sample of $g(\\mathbf{x})$ and count the negative realizations."
   ]
  },
  {
   "cell_type": "markdown",
   "metadata": {},
   "source": [
    "<div style=\"background-color:#AABAB2; color: black; vertical-align: middle; padding:3px 20px; color: black; border-radius: 10px; width: 95%\">\n",
    "<p>\n",
    "<b>Task 4:</b>\n",
    "Complete the code below to evaluate the failure probability.\n",
    "</p>\n",
    "</div>"
   ]
  },
  {
   "cell_type": "markdown",
   "metadata": {},
   "source": [
    "<div style=\"background-color:#FAE99E; color: black; vertical-align: middle; padding:3px 20px; color: black; border-radius: 10px; width: 95%\">\n",
    "<p>\n",
    "<b>Solution:</b> you were supposed to have defined the last two lines on your own, but we forgot to remove that from that assignment. Make sure you realize how simple MCS is once you obtain a random sample from the multivariate distribution!\n",
    "</p>\n",
    "</div>\n",
    "\n"
   ]
  },
  {
   "cell_type": "code",
   "execution_count": 14,
   "metadata": {},
   "outputs": [],
   "source": [
    "montecarlosize = 10000\n",
    "outputSample = outputvector.getSample(montecarlosize)\n",
    "\n",
    "number_failures = sum(i < 0 for i in np.array(outputSample))[0]\n",
    "pf_mc = number_failures/montecarlosize"
   ]
  },
  {
   "attachments": {},
   "cell_type": "markdown",
   "metadata": {},
   "source": [
    "## Task 5: Algorithm 2, FORM\n",
    "\n",
    "The First-Order Reliability Method (FORM) uses a linear approximation of the limit state function to evaluate failure probability. It is very similar to the method applied above, except the _expansion point of Taylor Series_ is different: it is the solution of an optimization problem, and is called the _design point_. The _design point_ is a vector of values, one for each random variable, and is denoted with symbol $x^*$. We will see what that is later on in the assignment, as well as how the probability is different. For now..."
   ]
  },
  {
   "cell_type": "markdown",
   "metadata": {},
   "source": [
    "<div style=\"background-color:#AABAB2; color: black; vertical-align: middle; padding:3px 20px; color: black; border-radius: 10px; width: 95%\">\n",
    "<p>\n",
    "<b>Task 5.1:</b>\n",
    "Read the code below and identify the key ingredients, along with some steps that the algorithm apparently takes. Then execute the code cell to evaluate the failure probability.\n",
    "</p>\n",
    "</div>"
   ]
  },
  {
   "cell_type": "markdown",
   "metadata": {},
   "source": [
    "<div style=\"background-color:#FAE99E; color: black; vertical-align: middle; padding:3px 20px; color: black; border-radius: 10px; width: 95%\">\n",
    "<p>\n",
    "<b>Solution:</b> the only ingredient defined here is the algorithm, FORM. You don't have to understand the details of every attribute that is being set, but you should recognize that the reliabiltiy algorithm uses an optimization algorithm (<code>optimAlgo</code>) which has a few parameters to stop the iterative solution approach. Then the FORM analysis is set up and executed using an object-oriented approach (running the model is method <code>run()</code> of the instance of the class <code>FORM</code>).\n",
    "</p>\n",
    "</div>\n",
    "\n"
   ]
  },
  {
   "cell_type": "code",
   "execution_count": 15,
   "metadata": {
    "tags": [
     "hide-input"
    ]
   },
   "outputs": [],
   "source": [
    "optimAlgo = ot.Cobyla()\n",
    "optimAlgo.setMaximumEvaluationNumber(1000)\n",
    "optimAlgo.setMaximumAbsoluteError(1.0e-10)\n",
    "optimAlgo.setMaximumRelativeError(1.0e-10)\n",
    "optimAlgo.setMaximumResidualError(1.0e-10)\n",
    "optimAlgo.setMaximumConstraintError(1.0e-10)\n",
    "\n",
    "algo = ot.FORM(optimAlgo, failureevent, inputDistribution.getMean())\n",
    "algo.run()\n",
    "result = algo.getResult()"
   ]
  },
  {
   "cell_type": "markdown",
   "metadata": {},
   "source": [
    "Print results in a separate cell from the analysis:"
   ]
  },
  {
   "cell_type": "code",
   "execution_count": 16,
   "metadata": {},
   "outputs": [
    {
     "name": "stdout",
     "output_type": "stream",
     "text": [
      "FORM result, pf = 0.0033\n",
      "\n",
      "The design point x_star consists of the following values:\n",
      "  M1 = 3.03e+02 (or 302.54)\n",
      "  M2 = 1.51e+02 (or 151.27)\n",
      "  P  = 3.02e+03 (or 3017.01)\n",
      "  Y  = 2.89e+04 (or 28895.4)\n",
      "\n",
      "For reference, the mean and std dev of each RV are:\n",
      "  M1: mean =    250, std =     75\n",
      "  M2: mean =    125, std =   37.5\n",
      "  P : mean =   2500, std =    500\n",
      "  Y : mean =  39985, std = 3983.97\n"
     ]
    }
   ],
   "source": [
    "pf = result.getEventProbability()\n",
    "x_star = result.getPhysicalSpaceDesignPoint()\n",
    "\n",
    "print('FORM result, pf = {:.4f}'.format(pf))\n",
    "print()\n",
    "print('The design point x_star consists of the following values:')\n",
    "for name, value in zip(inputDistribution.getDescription(), x_star):\n",
    "    print(f'  {name:2s} = {value:.2e} (or {value:g})')\n",
    "print()\n",
    "print('For reference, the mean and std dev of each RV are:')\n",
    "for name, value, std in zip(inputDistribution.getDescription(),\n",
    "                            inputDistribution.getMean(),\n",
    "                            inputDistribution.getStandardDeviation()):\n",
    "    print(f'  {name:2s}: mean = {value:6g}, std = {std:6g}')"
   ]
  },
  {
   "cell_type": "markdown",
   "metadata": {},
   "source": [
    "As mentioned, the design point is the expansion point for the linearized limit-state function. Checking the LSF value at the design point:"
   ]
  },
  {
   "cell_type": "code",
   "execution_count": 23,
   "metadata": {},
   "outputs": [
    {
     "name": "stdout",
     "output_type": "stream",
     "text": [
      "The LSF evaluated at the design point is:  1.00e-10\n"
     ]
    }
   ],
   "source": [
    "print(f'The LSF evaluated at the design point is: ',\n",
    "      f'{myLSF(x_star)[0]:.2e}')"
   ]
  },
  {
   "cell_type": "markdown",
   "metadata": {},
   "source": [
    "<div style=\"background-color:#facb8e; color: black; vertical-align: middle; padding:15px; margin: 10px; border-radius: 10px; width: 95%\"> <p>This confirms that the design point is <em>on</em> the limit state (illustrated in the figures below, as well). The value of 1e-10 is also not a coincidence: it is the tolerance from the FORM algorithm, which used that value as a stop criteria for the optimization algorithm.</p></div>"
   ]
  },
  {
   "cell_type": "markdown",
   "metadata": {},
   "source": [
    "We can also recompute the gradient at the expansion point to see how it has changed, relative to the case with the expansion point as the mean values, $\\mu_X$."
   ]
  },
  {
   "cell_type": "code",
   "execution_count": 61,
   "metadata": {},
   "outputs": [
    {
     "name": "stdout",
     "output_type": "stream",
     "text": [
      "The contribution of each term to the variance is:\n",
      "  7.486e-03\n",
      "  7.486e-03\n",
      "  1.002e-02\n",
      "  3.248e-02\n",
      "The variance of the LSF at x_star is 5.75e-02\n",
      "The sted dev of the LSF at x_star is 2.40e-01\n"
     ]
    }
   ],
   "source": [
    "g_var_i = [dg_dm1_lambdified(*x_star)**2 * var_m1,\n",
    "           dg_dm2_lambdified(*x_star)**2 * var_m2,\n",
    "           dg_dp_lambdified(*x_star)**2 * var_p,\n",
    "           dg_dy_lambdified(*x_star)**2 * var_y]\n",
    "\n",
    "print('The contribution of each term to the variance is:')\n",
    "[print(f'  {i:.3e}') for i in g_var_i]\n",
    "\n",
    "g_var = sum(g_var_i)\n",
    "\n",
    "print(f'The variance of the LSF at x_star is {g_var:.2e}')\n",
    "g_std = np.sqrt(g_var)\n",
    "print(f'The sted dev of the LSF at x_star is {g_std:.2e}')"
   ]
  },
  {
   "cell_type": "markdown",
   "metadata": {},
   "source": [
    "Note that OpenTURNS provides another way to compute gradients of the limit state function (by default it uses as central finite difference approximation)."
   ]
  },
  {
   "cell_type": "code",
   "execution_count": 102,
   "metadata": {},
   "outputs": [
    {
     "name": "stdout",
     "output_type": "stream",
     "text": [
      "Gradient computed by:\n",
      "     Sympy        OpenTURNs\n",
      "  -1.154e-03     -1.154e-03\n",
      "  -2.307e-03     -2.307e-03\n",
      "  -2.002e-04     -2.002e-04\n",
      "   4.506e-05      4.506e-05\n"
     ]
    },
    {
     "data": {
      "text/plain": [
       "[None, None, None, None]"
      ]
     },
     "execution_count": 102,
     "metadata": {},
     "output_type": "execute_result"
    }
   ],
   "source": [
    "g_grad_ot = myfunction.gradient(x_star)\n",
    "\n",
    "g_grad_i = [dg_dm1_lambdified(*x_star),\n",
    "            dg_dm2_lambdified(*x_star),\n",
    "            dg_dp_lambdified(*x_star),\n",
    "            dg_dy_lambdified(*x_star)]\n",
    "\n",
    "print('Gradient computed by:\\n     Sympy        OpenTURNs')\n",
    "[print(f'  {i:10.3e}     {j:10.3e}') for i, j in zip(g_grad_i, np.array(g_grad_ot).transpose()[0])]"
   ]
  },
  {
   "cell_type": "markdown",
   "metadata": {},
   "source": [
    "<div style=\"background-color:#AABAB2; color: black; vertical-align: middle; padding:3px 20px; color: black; border-radius: 10px; width: 95%\">\n",
    "<p>\n",
    "<b>Task 5.2:</b>\n",
    "Consider the design point above, and make a note about how these values (the linearization expansion point) differ from the mean of each random variable.\n",
    "</p>\n",
    "</div>"
   ]
  },
  {
   "cell_type": "markdown",
   "metadata": {},
   "source": [
    "<div style=\"background-color:#FAE99E; color: black; vertical-align: middle; padding:3px 20px; color: black; border-radius: 10px; width: 95%\">\n",
    "<p>\n",
    "<b>Solution:</b> first, note that for all random variables the design point is different from the mean value. Second, note that for Y the value is lower, whereas for the rest the value is higher. This is because Y is a \"resistance\" variable, whereas the others are loads. It shows that the design point defines a combination of variable values that is <em>more representative of a failure condition</em> (in fact, it is the \"most likely\" failure condition---as we will discuss later). The key takeaway at this point is to recognize that the expansion point that defines the linearized limit-state function is more suitable to the failed state of the component than an expansion point at the mean values. One could also say that this allows the function to be more representative to the \"tails\" of the distributions, where component failure actually occurs.\n",
    "</p>\n",
    "</div>\n",
    "\n"
   ]
  },
  {
   "cell_type": "markdown",
   "metadata": {},
   "source": [
    "<div style=\"background-color:#AABAB2; color: black; vertical-align: middle; padding:3px 20px; color: black; border-radius: 10px; width: 95%\">\n",
    "<p>\n",
    "<b>Task 5.3:</b>\n",
    "Compare the probabilities computed from FORM and MCS (you will use this in your report).\n",
    "</p>\n",
    "</div>"
   ]
  },
  {
   "cell_type": "markdown",
   "metadata": {},
   "source": [
    "<div style=\"background-color:#FAE99E; color: black; vertical-align: middle; padding:3px 20px; color: black; border-radius: 10px; width: 95%\">\n",
    "<p>\n",
    "    <b>Solution/note:</b> here we print the values of both methods, for use in the Report\n",
    "</p>\n",
    "</div>"
   ]
  },
  {
   "cell_type": "code",
   "execution_count": 17,
   "metadata": {},
   "outputs": [
    {
     "name": "stdout",
     "output_type": "stream",
     "text": [
      "The failure probability computed with FORM (OpenTURNS) is:  0.003337\n",
      "The failure probability computed with MCS (OpenTURNS) is:  0.0038\n",
      "Probability of failure with linear model: 2.45e-05\n"
     ]
    }
   ],
   "source": [
    "print(\"The failure probability computed with FORM (OpenTURNS) is: \",\n",
    "      \"{:.4g}\".format(pf))\n",
    "print(\"The failure probability computed with MCS (OpenTURNS) is: \",\n",
    "      \"{:.4g}\".format(pf_mc))\n",
    "print(f'Probability of failure with linear model: {g_linear.cdf(0):.2e}')"
   ]
  },
  {
   "cell_type": "markdown",
   "metadata": {},
   "source": [
    "### Task 6: Rerun Analysis to Check Dependence\n",
    "\n",
    "Recall in the problem specification that there is correlation between two of the random variables. Let's check the quantitative effect of including that in our analysis.\n",
    "\n",
    "<div style=\"background-color:#AABAB2; color: black; vertical-align: middle; padding:3px 20px; color: black; border-radius: 10px; width: 95%\">\n",
    "<p>\n",
    "<b>Task 6:</b>\n",
    "Return to the code above, identify the correlation matrix and assign the correlation coefficient defined above to the proper combination of random variables.\n",
    "</p>\n",
    "</div>\n",
    "<br>\n",
    "\n",
    "<div style=\"background-color:#FAE99E; color: black; vertical-align: middle; padding:3px 20px; color: black; border-radius: 10px; width: 95%\">\n",
    "<p>\n",
    "<b>Solution start</b>\n",
    "</p>\n",
    "</div>\n",
    "\n",
    "The relevant piece of code and corresponding results are presented below. As you can see, we specify a multivariate Gaussian distribution, which requires only a matrix of correlation coefficients. Since the first line of the original code generates a correlation matrix of independent random variables by default, and only the first two random variables are correlated, you simply need to add the coefficient to two indices. Remember the matrix is symmetric and diagonal in the case of independence between all variables.\n",
    "\n",
    "For the case _without_ correlation, $\\rho=0$ and the code here:\n",
    "```\n",
    "R = ot.CorrelationMatrix(4)   \n",
    "multinorm_copula = ot.NormalCopula(R)\n",
    "```\n",
    "produces results:\n",
    "```\n",
    "The failure probability computed with FORM (OpenTURNS) is:  0.003337\n",
    "The failure probability computed with MCS (OpenTURNS) is:  0.0051*\n",
    "```\n",
    "\n",
    "**Note:** the values computed my MCS will vary and probably different from yours, as they are based on random samples.\n",
    "\n",
    "For the case _with_ correlation, $\\rho=0.5$ and the code here:\n",
    "```\n",
    "R = ot.CorrelationMatrix(4)   \n",
    "R[0,1] = 0.5\n",
    "R[1,0] = 0.5\n",
    "multinorm_copula = ot.NormalCopula(R)\n",
    "```\n",
    "produces results:\n",
    "```\n",
    "The failure probability computed with FORM (OpenTURNS) is:  0.004364\n",
    "The failure probability computed with MCS (OpenTURNS) is:  0.007*\n",
    "```\n",
    "\n",
    "Remember, the linear model produced the following result (which can only be compared to the independent case):\n",
    "\n",
    "```\n",
    "Probability of failure with linear model: 2.45e-05\n",
    "```\n",
    "\n",
    "<div style=\"background-color:#FAE99E; color: black; vertical-align: middle; padding:3px 20px; color: black; border-radius: 10px; width: 95%\">\n",
    "<p>\n",
    "<b>Solution end</b>\n",
    "</p>\n",
    "</div>"
   ]
  },
  {
   "attachments": {},
   "cell_type": "markdown",
   "metadata": {},
   "source": [
    "## Task 7: Graphical Interpretation\n",
    "\n",
    "The difference between the two probabilities above was expected because FORM uses a linear approximation of the limit-state function. It is easiest to understand this if we look at bivariate plots that compare two random variables at a time, along with the limit-state function. This also makes it easier to understand and interpret the design point, which is unique for the FORM algorithm. \n",
    "\n",
    "Running the code below will create two plots. Since $M_2$ and $Y$ have the strongest contributions to the failure probability, we choose to position ourselves in that plane first.\n",
    "\n",
    "<div style=\"background-color:#AABAB2; color: black; vertical-align: middle; padding:3px 20px; color: black; border-radius: 10px; width: 95%\">\n",
    "<p>\n",
    "<b>Task 7.1:</b>\n",
    "Read the code to understand what is happening. Then look at the figure and read the interpretation points provided in the box below the figure.\n",
    "</p>\n",
    "</div>\n"
   ]
  },
  {
   "cell_type": "code",
   "execution_count": 18,
   "metadata": {
    "tags": [
     "hide-input"
    ]
   },
   "outputs": [],
   "source": [
    "def f_m2(m1, p, y):\n",
    "    ''' Computes m2 given m1, p and y. '''\n",
    "    return s2*y - m1*s2/s1 - (s2*p**2) /(y*a**2)\n",
    "\n",
    "def f_m1(m2, p, y):\n",
    "    ''' Computes m1 given m2, p and y. '''\n",
    "    return s1*y - m2*s1/s2 - (s1*p**2) /(y*a**2)\n",
    "\n",
    "\n",
    "\n",
    "y_sample = np.linspace(10000, 50000, 200)\n",
    "m2_sample = [f_m2(x_star[0], x_star[2], k) for k in y_sample]     # For now, take (Y, M2) plane"
   ]
  },
  {
   "cell_type": "code",
   "execution_count": 19,
   "metadata": {
    "tags": [
     "hide-input"
    ]
   },
   "outputs": [
    {
     "data": {
      "image/png": "[encoded data removed]",
      "text/plain": [
       "<Figure size 640x480 with 1 Axes>"
      ]
     },
     "metadata": {},
     "output_type": "display_data"
    }
   ],
   "source": [
    "f, ax = plt.subplots(1)\n",
    "\n",
    "ax.plot(m2_sample, y_sample, label=\"LSF\", color=\"k\")\n",
    "# Contour plot\n",
    "X_grid,Y_grid = np.meshgrid(m2_sample,y_sample)\n",
    "pdf = np.zeros(X_grid.shape)\n",
    "for i in range(X_grid.shape[0]):\n",
    "    for j in range(X_grid.shape[1]):\n",
    "            # This is correct, but only works when ALL RV's are independent!\n",
    "            # pdf[i,j] = M2.computePDF(X_grid[i,j])*Y.computePDF(Y_grid[i,j])\n",
    "            pdf[i,j] = inputDistribution.computePDF([x_star[0], X_grid[i,j], x_star[2], Y_grid[i,j]])\n",
    "ax.contour(X_grid, Y_grid, pdf, levels=8, cmap=cm.Blues)\n",
    "\n",
    "ax.set_xlabel(r\"$M_2$\", fontsize=14)\n",
    "ax.set_ylabel(\"Y\", fontsize=14)\n",
    "ax.plot(x_star[1], x_star[3], 'ro', label=\"Design point\")\n",
    "ax.plot(mean_vector[1], mean_vector[3], 'go', label=\"Mean Values\")\n",
    "ylim = ax.get_ylim()\n",
    "ax.fill_between(m2_sample, ylim[0], y_sample, color=\"grey\", label=\"Failure region\")\n",
    "ax.set_title(r\"Limit state function in the plane $(M_2, Y)$\", fontsize=18)\n",
    "ax.legend();"
   ]
  },
  {
   "cell_type": "markdown",
   "metadata": {},
   "source": [
    "<div style=\"background-color:#C8FFFF; color: black; vertical-align: middle; padding:3px 20px; color: black; border-radius: 10px; width: 95%\">\n",
    "From the figure above, note:\n",
    "<ul>\n",
    "    <li>the limit-sate function is indeed concave toward the mode of the joint distribution (the \"mode\" is the origin in the u-space).</li>\n",
    "    <li>Since the variables are independent, the contours are symmetric around each axis.</li>\n",
    "    <li>We can see that the design point is the point on the limit-state surface that is closes to the center of the contours.</li>\n",
    "    <li>Imagine how changing the mean or variance of the random variables would change the design point.</li>\n",
    "</ul>\n",
    "</div>"
   ]
  },
  {
   "attachments": {},
   "cell_type": "markdown",
   "metadata": {},
   "source": [
    "\n",
    "<div style=\"background-color:#AABAB2; color: black; vertical-align: middle; padding:3px 20px; color: black; border-radius: 10px; width: 95%\">\n",
    "<p>\n",
    "<b>Task 7.2:</b>\n",
    "Now we will do the same thing, but focus on a different combination of variables. Identify the variable that are included in this figure. Then look at the figure, compare with the previous one and read the interpretation points provided in the box below it.\n",
    "</p>\n",
    "</div>"
   ]
  },
  {
   "cell_type": "code",
   "execution_count": 20,
   "metadata": {
    "tags": [
     "hide-input"
    ]
   },
   "outputs": [
    {
     "data": {
      "image/png": "[encoded data removed]",
      "text/plain": [
       "<Figure size 640x480 with 1 Axes>"
      ]
     },
     "metadata": {},
     "output_type": "display_data"
    }
   ],
   "source": [
    "m1_sample = np.linspace(-300, 500, 200)\n",
    "m2_sample = [f_m2(k, x_star[2], x_star[3]) for k in m1_sample]\n",
    "\n",
    "f, ax = plt.subplots(1)\n",
    "\n",
    "ax.plot(m2_sample, m1_sample, label=\"LSF\", color=\"k\")\n",
    "# Contour plot\n",
    "X_grid,Y_grid = np.meshgrid(m2_sample,m1_sample)\n",
    "pdf = np.zeros(X_grid.shape)\n",
    "for i in range(X_grid.shape[0]):\n",
    "    for j in range(X_grid.shape[1]):\n",
    "            # This is correct, but only works when ALL RV's are independent!\n",
    "            # pdf[i,j] = M2.computePDF(X_grid[i,j])*Y.computePDF(Y_grid[i,j])\n",
    "            pdf[i,j] = inputDistribution.computePDF([Y_grid[i,j], X_grid[i,j], x_star[2], x_star[3]])\n",
    "ax.contour(X_grid, Y_grid, pdf, levels=8, cmap=cm.Blues)\n",
    "\n",
    "ax.set_xlabel(r\"$M_2$\", fontsize=14)\n",
    "ax.set_ylabel(r\"$M_1$\", fontsize=14)\n",
    "ax.plot(x_star[1], x_star[0], 'ro', label=\"Design point\")    # Delete x_star[1] and x_star[3] for students\n",
    "ax.plot(mean_vector[1], mean_vector[0], 'go', label=\"Mean Values\")\n",
    "ylim = ax.get_ylim()\n",
    "ax.fill_between(m2_sample, m1_sample, ylim[1], color=\"grey\", label=\"Failure region\")\n",
    "ax.set_title(r\"Limit state function in the plane $(M_2, M_1)$\", fontsize=18)\n",
    "ax.legend();"
   ]
  },
  {
   "cell_type": "markdown",
   "metadata": {},
   "source": [
    "<div style=\"background-color:#C8FFFF; color: black; vertical-align: middle; padding:3px 20px; color: black; border-radius: 10px; width: 95%\">\n",
    "From the figure above, note:\n",
    "<ul>\n",
    "    <li>this combination of variables has a more linear limit-state surface (this is not general for the entire problem: we can only visualize 2 variables at a time!)</li>\n",
    "    <li>you can identify the correlation between $M_1$ and $M_2$ as the inclined axis of the elliptical contours of probability density.</li>\n",
    "    <li>The design point seems to be correct: it is the highest density on the limit-state surface.</li>\n",
    "</ul>\n",
    "</div>"
   ]
  },
  {
   "cell_type": "markdown",
   "metadata": {},
   "source": [
    "\n",
    "<div style=\"background-color:#AABAB2; color: black; vertical-align: middle; padding:3px 20px; color: black; border-radius: 10px; width: 95%\">\n",
    "<p>\n",
    "<b>End of notebook:</b>\n",
    "once you have completed all tasks, test your understanding and interpretation by answering the questions in <code>Report.md</code>.\n",
    "</p>\n",
    "</div>"
   ]
  }
 ],
 "metadata": {
  "kernelspec": {
   "display_name": "Python 3 (ipykernel)",
   "language": "python",
   "name": "python3"
  },
  "language_info": {
   "codemirror_mode": {
    "name": "ipython",
    "version": 3
   },
   "file_extension": ".py",
   "mimetype": "text/x-python",
   "name": "python",
   "nbconvert_exporter": "python",
   "pygments_lexer": "ipython3",
   "version": "3.11.9"
  },
  "widgets": {
   "application/vnd.jupyter.widget-state+json": {
    "state": {},
    "version_major": 2,
    "version_minor": 0
   }
  }
 },
 "nbformat": 4,
 "nbformat_minor": 4
}
