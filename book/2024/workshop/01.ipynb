{
 "cells": [
  {
   "cell_type": "markdown",
   "metadata": {},
   "source": [
    "# Workshop 01"
   ]
  },
  {
   "cell_type": "code",
   "execution_count": 1,
   "metadata": {},
   "outputs": [],
   "source": [
    "import numpy as np\n",
    "import matplotlib.pyplot as plt\n",
    "import scipy.stats as st"
   ]
  },
  {
   "cell_type": "code",
   "execution_count": 3,
   "metadata": {},
   "outputs": [],
   "source": [
    "def wind_set_up(u,d,F=3000, C2 = 4.0e-6):\n",
    "    \"\"\"\n",
    "    This function calculates the wind set-up from the wind speed and average depth\n",
    "\n",
    "    Parameters\n",
    "    ----------\n",
    "    u : float\n",
    "        [m/s] Wind speed\n",
    "    d : float\n",
    "        [m] Average depth over fetch length\n",
    "    F : float\n",
    "        [m] Fetch length\n",
    "    C2 : float, optional\n",
    "        [-] Empirical constant, between 3.5e-6 and 4.0e-6, default is 4.0e-6\n",
    "    \n",
    "    Returns\n",
    "    -------\n",
    "    S : float\n",
    "        [m] Wind set-up at toe of the dike\n",
    "    \"\"\"\n",
    "\n",
    "    g = 9.81\n",
    "    S = C2 * (u**2)/(g*d) * F  \n",
    "    return S "
   ]
  },
  {
   "cell_type": "code",
   "execution_count": 4,
   "metadata": {},
   "outputs": [],
   "source": [
    "def run_up_level(Hs,alpha):\n",
    "    import numpy as np\n",
    "    \"\"\"\n",
    "    This function calculates the run-up level from the significant wave height\n",
    "\n",
    "    Parameters\n",
    "    ----------\n",
    "    Hs : float\n",
    "        [m] Significant wave height\n",
    "    alpha : float\n",
    "        [degrees] Angle of the slope of the toe of dike\n",
    "    \n",
    "    Returns\n",
    "    -------\n",
    "    Ru2 : float\n",
    "        [m] Run-up level, exceeded by 2% of the waves\n",
    "    \"\"\"\n",
    "    # Since numpy works with radians, we need to convert the angle to radians\n",
    "    alpha_radians = np.radians(alpha)\n",
    "\n",
    "    Ru2 = 8*Hs*np.tan(alpha_radians)\n",
    "    return Ru2\n"
   ]
  },
  {
   "cell_type": "code",
   "execution_count": 118,
   "metadata": {},
   "outputs": [],
   "source": [
    "def total_water_level_at_dike(Hs, u, d_average=3, alpha=20, F=10000, C2 = 4.0e-6):\n",
    "    \"\"\"\n",
    "    This function calculates the seperate parts that sum up to total water level at the dike\n",
    "\n",
    "    Parameters\n",
    "    ----------\n",
    "    Hs : float\n",
    "        [m] Significant wave height\n",
    "    alpha : float\n",
    "        [degrees] Angle of the slope of the toe of dike\n",
    "    u : float\n",
    "        [m/s] Wind speed\n",
    "    d : float\n",
    "        [m] Average depth over fetch length\n",
    "    F : float\n",
    "        [m] Fetch length\n",
    "    h_offshore : float\n",
    "        [m] Offshore water level\n",
    "    Zbed : float\n",
    "        [m] Bed level at the toe of the dike\n",
    "    \n",
    "    Returns\n",
    "    -------\n",
    "    TWL_sample : 3D array\n",
    "        [m] Total water level at the dike, consisting of run-up level, wind set-up and average water depth\n",
    "    \n",
    "    \"\"\"\n",
    "    # Calculate wind set-up\n",
    "    S = wind_set_up(u,d_average,F, C2)\n",
    "\n",
    "        \n",
    "    # Calculate run-up level\n",
    "    Ru2 = run_up_level(Hs,alpha)\n",
    "    \n",
    "    # Calculate total water level\n",
    "    TWL = d_average + Ru2 + S\n",
    "    return TWL"
   ]
  }
 ],
 "metadata": {
  "kernelspec": {
   "display_name": "Python 3",
   "language": "python",
   "name": "python3"
  },
  "language_info": {
   "codemirror_mode": {
    "name": "ipython",
    "version": 3
   },
   "file_extension": ".py",
   "mimetype": "text/x-python",
   "name": "python",
   "nbconvert_exporter": "python",
   "pygments_lexer": "ipython3",
   "version": "3.11.7"
  }
 },
 "nbformat": 4,
 "nbformat_minor": 2
}
