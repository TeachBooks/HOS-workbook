{
 "cells": [
  {
   "cell_type": "markdown",
   "metadata": {},
   "source": [
    "# Workshop 01\n",
    "\n",
    "````{admonition}\n",
    "class: warning\n",
    "\n",
    "These functions were provided for the in-class session on Friday, April 26 and are used in the solution (next page). See the note below about changes made to the third function after the in-class session.\n",
    "````"
   ]
  },
  {
   "cell_type": "code",
   "execution_count": 1,
   "metadata": {},
   "outputs": [],
   "source": [
    "import numpy as np\n",
    "import matplotlib.pyplot as plt\n",
    "import scipy.stats as st"
   ]
  },
  {
   "cell_type": "code",
   "execution_count": 2,
   "metadata": {},
   "outputs": [],
   "source": [
    "def wind_set_up(u, d, F=3000, C=4.0e-6):\n",
    "    \"\"\"\n",
    "    Calculate wind set-up at the toe of the dike, relative to still water level.\n",
    "\n",
    "    Parameters\n",
    "    ----------\n",
    "    u : float\n",
    "        [m/s] Representative wind speed\n",
    "    d : float\n",
    "        [m] Average depth over fetch length. Take \"offshore\" depth as proxy.\n",
    "    F : float\n",
    "        [m] Fetch length, default is 3000 m (3 km)\n",
    "    C : float, optional\n",
    "        [-] Empirical constant, between 3.5e-6 and 4.0e-6, default is 4.0e-6\n",
    "    \n",
    "    Returns\n",
    "    -------\n",
    "    S : float\n",
    "        [m] Wind set-up at toe of the dike\n",
    "    \"\"\"\n",
    "\n",
    "    g = 9.81\n",
    "    S = C*(u**2)/(g*d)*F  \n",
    "    return S"
   ]
  },
  {
   "cell_type": "code",
   "execution_count": 3,
   "metadata": {},
   "outputs": [],
   "source": [
    "def run_up_level(Hs, alpha):\n",
    "    import numpy as np\n",
    "    \"\"\"\n",
    "    Calculate run-up level at the toe of the dike, relative to still water level.\n",
    "\n",
    "    Parameters\n",
    "    ----------\n",
    "    Hs : float\n",
    "        [m] Significant wave height\n",
    "    alpha : float\n",
    "        [degrees] Angle of the slope of the toe of dike\n",
    "    \n",
    "    Returns\n",
    "    -------\n",
    "    Ru2 : float\n",
    "        [m] Run-up level, exceeded by 2% of the waves\n",
    "    \"\"\"\n",
    "    # Since numpy works with radians, we need to convert the angle to radians\n",
    "    alpha_radians = np.radians(alpha)\n",
    "\n",
    "    Ru2 = 8*Hs*np.tan(alpha_radians)\n",
    "    return Ru2"
   ]
  },
  {
   "cell_type": "markdown",
   "metadata": {},
   "source": [
    "````{admonition}\n",
    "class: warning\n",
    "\n",
    "The function below was modified after the in-class session on April 26; the name is changed to make this more apparent. There are two primary changes:\n",
    "1. The keyword argument `d_average` was replaced with both elevations as random variables (`Zw` and `Zb`). This allows the \"offshore\" water elevation and water depth to be used separately in the \"complete\" equation, rather than the water depth only (using this in place of `Zw` underestimates the water elevation at the toe of the dike, since $Z_w>d_{w,\\,\\mathrm{dike}}>).\n",
    "2. The keyword argument `d_average` was set to a value of 3, so if this was used, you were effectively ignoring the variability of the tide and bottom elevation.\n",
    "This had a small effect on the calculated failure probability: implementing the new function caused it to change from 8% to 37%.\n",
    "````"
   ]
  },
  {
   "cell_type": "code",
   "execution_count": 4,
   "metadata": {},
   "outputs": [],
   "source": [
    "def water_at_dike(Hs, u, Zw, Zb, alpha=20, F=10000, C2 = 4.0e-6):\n",
    "    \"\"\"\n",
    "    Calculate the effective water elevation at the dike.\n",
    "\n",
    "    Parameters\n",
    "    ----------\n",
    "    Hs : float\n",
    "        [m] Significant wave height\n",
    "    alpha : float\n",
    "        [degrees] Angle of the slope of the toe of dike\n",
    "    u : float\n",
    "        [m/s] Representative wind speed\n",
    "    d : float\n",
    "        [m] Average depth over fetch length\n",
    "    F : float\n",
    "        [m] Fetch length\n",
    "    Zw : float\n",
    "        [m] Offshore water elevation (tidal level)\n",
    "    Zb : float\n",
    "        [m] Offshore bed level (or bottom level)\n",
    "    \n",
    "    Intermediate Parameter\n",
    "    ----------------------\n",
    "    d_offshore : float\n",
    "        [m] Depth of water at the offshore location, Zw - Zb\n",
    "\n",
    "    Returns\n",
    "    -------\n",
    "    Zd : float\n",
    "        [m] Elevation of water level at the dike.\n",
    "              - Equivalent to water depth, as datum is toe of dike\n",
    "              - Sum of tidal level, run-up, wind set-up\n",
    "    \"\"\"\n",
    "\n",
    "    d_offshore = Zw - Zb\n",
    "\n",
    "    S = wind_set_up(u, d_offshore, F, C2)\n",
    "\n",
    "    Ru2 = run_up_level(Hs, alpha)\n",
    "    \n",
    "    Zd = Zw + Ru2 + S\n",
    "\n",
    "    return Zd"
   ]
  }
 ],
 "metadata": {
  "kernelspec": {
   "display_name": "Python 3",
   "language": "python",
   "name": "python3"
  },
  "language_info": {
   "codemirror_mode": {
    "name": "ipython",
    "version": 3
   },
   "file_extension": ".py",
   "mimetype": "text/x-python",
   "name": "python",
   "nbconvert_exporter": "python",
   "pygments_lexer": "ipython3",
   "version": "3.11.4"
  }
 },
 "nbformat": 4,
 "nbformat_minor": 2
}
